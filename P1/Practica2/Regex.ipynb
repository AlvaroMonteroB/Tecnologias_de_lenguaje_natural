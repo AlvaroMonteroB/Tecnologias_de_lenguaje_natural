{
 "cells": [
  {
   "cell_type": "code",
   "execution_count": 78,
   "metadata": {},
   "outputs": [],
   "source": [
    "import re\n"
   ]
  },
  {
   "cell_type": "markdown",
   "metadata": {},
   "source": [
    "Lectura de archivo"
   ]
  },
  {
   "cell_type": "code",
   "execution_count": 79,
   "metadata": {},
   "outputs": [
    {
     "name": "stdout",
     "output_type": "stream",
     "text": [
      "5.25:supply:20170222:box of staples\n",
      "79.81:meal:20170222:lunch with ABC Corp. clients Al, Bob, and Cy\n",
      "43.00:travel:20170222:cab back to office\n",
      "383.75:travel:20170223:flight to Boston, to visit ABC Corp.\n",
      "55.00:travel:20170223:cab to ABC Corp. in Cambridge, MA\n"
     ]
    }
   ],
   "source": [
    "plain_text=0\n",
    "with open(\"expenses.txt\",'r') as f:\n",
    "    plain_text=f.read()\n",
    "#Dividir el texto en renglones\n",
    "phrases_divided=plain_text.split('\\n')\n",
    "#Usamos solo las primeros 5 numerales\n",
    "phrases=phrases_divided[1:6]\n",
    "print('\\n'.join(phrases))"
   ]
  },
  {
   "cell_type": "code",
   "execution_count": 88,
   "metadata": {},
   "outputs": [
    {
     "name": "stdout",
     "output_type": "stream",
     "text": [
      "['rp. clients Al, Bob, and Cy43.00:travel:20170222:cab back to office383.75:travel:20170223:flight to Boston, to visit ABC Corp.55.00:travel:20170223:cab to ABC Corp. in Cambridg']\n"
     ]
    }
   ],
   "source": [
    "#Patrón 1\n",
    "merged_phrases=''.join(phrases)\n",
    "#print(merged_phrases)\n",
    "pattern_rg=r'r.*g'\n",
    "found=re.findall(pattern_rg,merged_phrases)\n",
    "print(found)\n"
   ]
  },
  {
   "cell_type": "code",
   "execution_count": 95,
   "metadata": {},
   "outputs": [
    {
     "name": "stdout",
     "output_type": "stream",
     "text": [
      "[['79.81:meal:20170222:lunch with ABC Corp. clients Al, Bob, and Cy']]\n"
     ]
    }
   ],
   "source": [
    "#Patrón 2\n",
    "pattern100=r'\\d{2}.\\d{2}:meal.*'\n",
    "coicidences=[]\n",
    "#print(phrases)\n",
    "for reng in phrases:\n",
    "    aux=re.findall(pattern100,reng)\n",
    "    if aux:\n",
    "        coicidences.append(aux)\n",
    "print(coicidences)\n",
    "    "
   ]
  },
  {
   "cell_type": "code",
   "execution_count": 105,
   "metadata": {},
   "outputs": [
    {
     "name": "stdout",
     "output_type": "stream",
     "text": [
      "['79.81:meal:20170222:lunch with ABC Corp. clients Al, Bob, and Cy']\n",
      "['43.00:travel:20170222:cab ']\n",
      "['55.00:travel:20170223:cab to ABC Corp. in Cambridge, MA']\n"
     ]
    }
   ],
   "source": [
    "#Patrón 3\n",
    "pattern3=r'.*a[^ab]*b[^bc]*c*'\n",
    "coicidences=[]\n",
    "for reng in phrases:\n",
    "    aux=re.findall(pattern3,reng)\n",
    "    if aux:\n",
    "        coicidences.append(aux)\n",
    "for coinc in coicidences:\n",
    "    print(coinc)"
   ]
  },
  {
   "cell_type": "code",
   "execution_count": 129,
   "metadata": {},
   "outputs": [
    {
     "name": "stdout",
     "output_type": "stream",
     "text": [
      "['5.25:supply:20170222:box of staples']\n",
      "['79.81:meal:20170222:lunch with ABC Corp. clients Al, Bob, and Cy']\n",
      "['43.00:travel:20170222:cab back to office']\n",
      "['383.75:travel:20170223:flight to Boston, to visit ABC Corp.']\n",
      "['55.00:travel:20170223:cab to ABC Corp. in Cambridge, MA']\n"
     ]
    }
   ],
   "source": [
    "#Patrón 4\n",
    "pattern4=r'.*:.*:.*:.*[a\\d].*|.*[a\\d].*'\n",
    "coicidences=[]\n",
    "for reng in phrases:\n",
    "    aux=re.findall(pattern4,reng)\n",
    "    if aux:\n",
    "        coicidences.append(aux)\n",
    "for coinc in coicidences:\n",
    "    print(coinc)"
   ]
  },
  {
   "cell_type": "code",
   "execution_count": 133,
   "metadata": {},
   "outputs": [],
   "source": [
    "#Patrón 5\n",
    "pattern5=r'.*d.*i'\n",
    "coicidences=[]\n",
    "for reng in phrases:\n",
    "    aux=re.findall(pattern5,reng)\n",
    "    if aux:\n",
    "        coicidences.append(aux)\n",
    "for coinc in coicidences:\n",
    "    print(coinc)"
   ]
  },
  {
   "cell_type": "code",
   "execution_count": 85,
   "metadata": {},
   "outputs": [
    {
     "name": "stdout",
     "output_type": "stream",
     "text": [
      "[[('a. The Shawshank Redemption ', '1994', '')], [('b. The Godfather ', '1972', '')], [('c. The Godfather: Part II ', '1974', '')], [('d. 2001: A Space Odyssey ', '1968', '')], [('e. The Good, the Bad and the Ugly ', '1966', '')], [('f. Angry Men ', '1957', '')], [('g. Schindlers List ', '1993', '')], [('i. Fight Club ', '1999', '')], [('j. 2010: The Year We Make Contact ', '1984', '')], [('k. 101 Dalmatians ', '1996', '')]]\n"
     ]
    }
   ],
   "source": [
    "movies=['a. The Shawshank Redemption (1994)',\n",
    "'b. The Godfather (1972)',\n",
    "'c. The Godfather: Part II (1974)',\n",
    "'d. 2001: A Space Odyssey (1968)',\n",
    "'e. The Good, the Bad and the Ugly (1966)',\n",
    "'f. Angry Men (1957)',\n",
    "'g. Schindlers List (1993)',\n",
    "'h. The Lord of the Rings: The Return of the King (2003)',\n",
    "'i. Fight Club (1999)',\n",
    "'j. 2010: The Year We Make Contact (1984)',\n",
    "'k. 101 Dalmatians (1996)']\n",
    "pattern=r'^(.*?)\\((19[0-9][0-9])|(200[0-1])\\)'\n",
    "coicidences=[]\n",
    "for reng in movies:\n",
    "    aux=re.findall(pattern,reng)\n",
    "    if aux:\n",
    "        coicidences.append(aux)\n",
    "print(coicidences)"
   ]
  },
  {
   "cell_type": "code",
   "execution_count": 134,
   "metadata": {},
   "outputs": [
    {
     "name": "stdout",
     "output_type": "stream",
     "text": [
      "['a. Cake 1: sugar, flour, cocoa powder, baking powder, baking soda, salt, eggs,milk, vegetable oil, vanilla extract, chocolATE']\n",
      "['c. Cake 3: dark chocolate cake mix, instant CHOCOLATE']\n",
      "['e. Cake 5: gingersnap cookies, chopped pecans, butter, cream cheese, sugar, vanilla extract, eggs, canned pumpkin, cinnamon, CHOColate']\n",
      "['f. Cake 6: flour, baking soda, sea salt, butter, white sugar, brown sugar, eggs, vanilla extract, Chooocolate']\n"
     ]
    }
   ],
   "source": [
    "recipes=[\n",
    "'a. Cake 1: sugar, flour, cocoa powder, baking powder, baking soda, salt, eggs,milk, vegetable oil, vanilla extract, chocolATE chip.',\n",
    "'b. Cake 2: cream cheese, sugar, vanilla extract, crescent rolls, cinnamon, butter, honey.',\n",
    "'c. Cake 3: dark chocolate cake mix, instant CHOCOLATE pudding mix, sour cream, eggs, vegetable oil, coffee liqueur.',\n",
    "'d. Cake 4: flour, baking powder, salt, cinnamon, butter, sugar, egg, vanilla extract, milk, chopped walnuts.',\n",
    "'e. Cake 5: gingersnap cookies, chopped pecans, butter, cream cheese, sugar, vanilla extract, eggs, canned pumpkin, cinnamon, CHOColate.',\n",
    "'f. Cake 6: flour, baking soda, sea salt, butter, white sugar, brown sugar, eggs, vanilla extract, Chooocolate chips, canola oil.',\n",
    "'g. Cake 7: wafers, cream cheese, sugar, eggs, vanilla extract, cherry pie filling.',\n",
    "]\n",
    "patternx=r'.*ch[o]+c[o]*la*[t]e*'\n",
    "coicidences=[]\n",
    "for reng in recipes:\n",
    "    aux=re.findall(patternx,reng,re.IGNORECASE)\n",
    "    if aux:\n",
    "        coicidences.append(aux)\n",
    "for coinc in coicidences:\n",
    "    print(coinc)"
   ]
  },
  {
   "cell_type": "code",
   "execution_count": 87,
   "metadata": {},
   "outputs": [
    {
     "name": "stdout",
     "output_type": "stream",
     "text": [
      "China 1,361,220,000\n",
      "India 1,236,800,000\n",
      "United States 317,121,000\n",
      "Indonesia 237,641,326\n",
      "Brazil 201,032,714\n",
      "Pakistan 184,872,000\n"
     ]
    }
   ],
   "source": [
    "poblaciones = [\n",
    "    'a. China 1361220000',\n",
    "    'b. India 1236800000',\n",
    "    'c. United States 317121000',\n",
    "    'd. Indonesia 237641326',\n",
    "    'e. Brazil 201032714',\n",
    "    'f. Pakistan 184872000'\n",
    "]\n",
    "for poblacion_str in poblaciones:\n",
    "    poblacion_con_comas = re.sub(r'(\\d)(?=(\\d{3})+(?!\\d))', r'\\1,', poblacion_str.split(' ', 1)[1])\n",
    "    print(poblacion_con_comas)"
   ]
  },
  {
   "cell_type": "code",
   "execution_count": 143,
   "metadata": {},
   "outputs": [
    {
     "name": "stdout",
     "output_type": "stream",
     "text": [
      "2001:db8::::ff00:42:8329\n",
      "2607:f0d0:1002:51::::4\n"
     ]
    }
   ],
   "source": [
    "ip_adress=[\n",
    "    '2001:0db8:0000:0000:0000:ff00:0042:8329',\n",
    "    '2607:f0d0:1002:0051:0000:0000:0000:0004'\n",
    "]\n",
    "ip_simplified=[]\n",
    "for adress_full in ip_adress:\n",
    "    adress = re.sub(r':0+', ':', adress_full)#Quitamos 0's\n",
    "    adress = re.sub(r'(^|:)0{1,3}(?=[:$])', '::', adress)\n",
    "    ip_simplified.append(adress)\n",
    "\n",
    "for adr in ip_simplified:\n",
    "    print(adr)\n"
   ]
  }
 ],
 "metadata": {
  "kernelspec": {
   "display_name": "nlp_cpu",
   "language": "python",
   "name": "python3"
  },
  "language_info": {
   "codemirror_mode": {
    "name": "ipython",
    "version": 3
   },
   "file_extension": ".py",
   "mimetype": "text/x-python",
   "name": "python",
   "nbconvert_exporter": "python",
   "pygments_lexer": "ipython3",
   "version": "3.10.13"
  }
 },
 "nbformat": 4,
 "nbformat_minor": 2
}
