{
 "cells": [
  {
   "cell_type": "code",
   "execution_count": 1,
   "metadata": {},
   "outputs": [],
   "source": [
    "import spacy\n",
    "from collections import Counter\n",
    "from nltk.tokenize import word_tokenize\n"
   ]
  },
  {
   "cell_type": "code",
   "execution_count": 3,
   "metadata": {},
   "outputs": [],
   "source": [
    "nlp=spacy.load('en_core_web_sm')"
   ]
  },
  {
   "cell_type": "code",
   "execution_count": 13,
   "metadata": {},
   "outputs": [
    {
     "name": "stdout",
     "output_type": "stream",
     "text": [
      "[pancreatic, cancer, metastasis, ., jaundice, transaminitis, ,, evaluate, obstruction, process, .]\n",
      "[pancreatitis, ., breast, cancer, ., output, enteric, tube, ., assess, tube, .]\n",
      "[metastasis, pancreatic, cancer, ., acute, renal, failure, ,, evaluate, hydronephrosis, obstructive, uropathy, .]\n"
     ]
    }
   ],
   "source": [
    "docs=[\n",
    "    'Pancreatic cancer with metastasis. Jaundice with transaminitis, evaluate for obstruction process.',\n",
    "    'Pancreatitis. Breast cancer. No output from enteric tube. Assess tube.',\n",
    "    'Metastasis pancreatic cancer. Acute renal failure, evaluate for hydronephrosis or obstructive uropathy.'\n",
    "]\n",
    "aux=[]\n",
    "aux=(text.lower() for text in docs)\n",
    "docs=aux\n",
    "    \n",
    "processed_docs=[]\n",
    "for doc in docs:\n",
    "    processed_docs.append(nlp(doc))\n",
    "    \n",
    "stopless_list=[]\n",
    "\n",
    "for doc in processed_docs:\n",
    "    tokens_stopless=[token for token in doc if not token.is_stop]#Quitamos las stopwords y almacenamos cada resultante\n",
    "    stopless_list.append(tokens_stopless)\n",
    "    \n",
    "for doc in stopless_list:\n",
    "    print(doc)\n"
   ]
  },
  {
   "cell_type": "code",
   "execution_count": 14,
   "metadata": {},
   "outputs": [
    {
     "name": "stdout",
     "output_type": "stream",
     "text": [
      "<generator object <genexpr> at 0x000001DF4BD80040>\n"
     ]
    }
   ],
   "source": [
    "#Remocion de signos de puntuacion\n",
    "import re\n",
    "clean_docs=( re.sub(r'[^\\w\\s]', '', text) for text in stopless_list)\n",
    "print(clean_docs)"
   ]
  }
 ],
 "metadata": {
  "kernelspec": {
   "display_name": "nlp_cpu",
   "language": "python",
   "name": "python3"
  },
  "language_info": {
   "codemirror_mode": {
    "name": "ipython",
    "version": 3
   },
   "file_extension": ".py",
   "mimetype": "text/x-python",
   "name": "python",
   "nbconvert_exporter": "python",
   "pygments_lexer": "ipython3",
   "version": "3.10.13"
  }
 },
 "nbformat": 4,
 "nbformat_minor": 2
}
