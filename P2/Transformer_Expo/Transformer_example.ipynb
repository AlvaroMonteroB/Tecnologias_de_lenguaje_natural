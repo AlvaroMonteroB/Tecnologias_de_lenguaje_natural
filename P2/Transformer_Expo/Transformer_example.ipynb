{
 "cells": [
  {
   "cell_type": "markdown",
   "metadata": {},
   "source": [
    "Librerias para el transformer"
   ]
  },
  {
   "cell_type": "code",
   "execution_count": 1,
   "metadata": {},
   "outputs": [
    {
     "name": "stdout",
     "output_type": "stream",
     "text": [
      "WARNING:tensorflow:From c:\\Users\\diavl\\miniconda3\\envs\\tensorflow-env\\lib\\site-packages\\keras\\src\\losses.py:2976: The name tf.losses.sparse_softmax_cross_entropy is deprecated. Please use tf.compat.v1.losses.sparse_softmax_cross_entropy instead.\n",
      "\n"
     ]
    },
    {
     "name": "stderr",
     "output_type": "stream",
     "text": [
      "C:\\Users\\diavl\\AppData\\Roaming\\Python\\Python39\\site-packages\\tqdm\\auto.py:21: TqdmWarning: IProgress not found. Please update jupyter and ipywidgets. See https://ipywidgets.readthedocs.io/en/stable/user_install.html\n",
      "  from .autonotebook import tqdm as notebook_tqdm\n",
      "c:\\Users\\diavl\\miniconda3\\envs\\tensorflow-env\\lib\\site-packages\\huggingface_hub\\file_download.py:1132: FutureWarning: `resume_download` is deprecated and will be removed in version 1.0.0. Downloads always resume when possible. If you want to force a new download, use `force_download=True`.\n",
      "  warnings.warn(\n"
     ]
    },
    {
     "name": "stdout",
     "output_type": "stream",
     "text": [
      "WARNING:tensorflow:From c:\\Users\\diavl\\miniconda3\\envs\\tensorflow-env\\lib\\site-packages\\keras\\src\\backend.py:873: The name tf.get_default_graph is deprecated. Please use tf.compat.v1.get_default_graph instead.\n",
      "\n"
     ]
    },
    {
     "name": "stderr",
     "output_type": "stream",
     "text": [
      "Some weights of the PyTorch model were not used when initializing the TF 2.0 model TFRobertaForQuestionAnswering: ['roberta.embeddings.position_ids']\n",
      "- This IS expected if you are initializing TFRobertaForQuestionAnswering from a PyTorch model trained on another task or with another architecture (e.g. initializing a TFBertForSequenceClassification model from a BertForPreTraining model).\n",
      "- This IS NOT expected if you are initializing TFRobertaForQuestionAnswering from a PyTorch model that you expect to be exactly identical (e.g. initializing a TFBertForSequenceClassification model from a BertForSequenceClassification model).\n",
      "All the weights of TFRobertaForQuestionAnswering were initialized from the PyTorch model.\n",
      "If your task is similar to the task the model of the checkpoint was trained on, you can already use TFRobertaForQuestionAnswering for predictions without further training.\n"
     ]
    }
   ],
   "source": [
    "import tensorflow as tf\n",
    "from transformers import RobertaTokenizer, TFRobertaForQuestionAnswering\n",
    "\n",
    "# Cargar el modelo y el tokenizador preentrenados\n",
    "model_name = 'deepset/roberta-large-squad2'\n",
    "tokenizer = RobertaTokenizer.from_pretrained(model_name)\n",
    "model = TFRobertaForQuestionAnswering.from_pretrained(model_name)\n"
   ]
  },
  {
   "cell_type": "code",
   "execution_count": 21,
   "metadata": {},
   "outputs": [],
   "source": [
    "# Contexto de ejemplo\n",
    "contexto = \"\"\"\n",
    "Dennis Alan es un científico que viaja a Haití para comprobar los\n",
    "rumores acerca de una poción que paraliza pero mantiene\n",
    "inconscientes a aquellos que la ingieren; 10 cuál hace suponer a los\n",
    "médicos que dichos sujetos están muertos. Es decir, los convierte\n",
    "literalmente en zombis, con 10 que el mito puede ser comprobado\n",
    "como un simple estado inducido y no un fenómeno sobrenatural. Sin\n",
    "Embargo Alan, en la medida que se involucra con la gente del pueblo,\n",
    "a descubriendo que la línea que separa a la ciencia de la superstición\n",
    "es muy delgada y fácilmente se cruza de un camino a otro en una\n",
    "sociedad reprimida y altamente creyente de las costumbres criollas de\n",
    "brujería y santería.\"\"\"\n",
    "\n",
    "# Pregunta de ejemplo\n",
    "pregunta = \"¿Quien es Dennis Alan?\"\n",
    "pregunta = '¿?'\n",
    "\n"
   ]
  },
  {
   "cell_type": "code",
   "execution_count": 22,
   "metadata": {},
   "outputs": [],
   "source": [
    "# Tokenizar las entradas\n",
    "inputs = tokenizer(pregunta, contexto, add_special_tokens=True, return_tensors=\"tf\")\n",
    "input_ids = inputs[\"input_ids\"]\n",
    "attention_mask = inputs[\"attention_mask\"]\n",
    "\n",
    "# Obtener las posiciones de las respuestas\n",
    "outputs = model(input_ids, attention_mask=attention_mask)\n",
    "respuesta_inicios = tf.math.argmax(outputs.start_logits, axis=-1).numpy()[0]\n",
    "respuesta_fines = tf.math.argmax(outputs.end_logits, axis=-1).numpy()[0]\n",
    "\n",
    "# Recuperar los tokens correspondientes a la respuesta\n",
    "respuesta_tokens = input_ids[0, respuesta_inicios : respuesta_fines + 1]\n",
    "respuesta = tokenizer.decode(respuesta_tokens)\n",
    "\n"
   ]
  },
  {
   "cell_type": "code",
   "execution_count": 23,
   "metadata": {},
   "outputs": [
    {
     "name": "stdout",
     "output_type": "stream",
     "text": [
      "Pregunta: ¿En qué los convierte?\n",
      "Respuesta:  zombis\n",
      "Pregunta: ¿En qué los convierte?\n",
      "Respuesta:  zombis\n"
     ]
    }
   ],
   "source": [
    "# Imprimir la respuesta# Imprimir la respuesta\n",
    "print(f\"Pregunta: {pregunta}\")\n",
    "print(f\"Respuesta: {respuesta}\")\n",
    "print(f\"Pregunta: {pregunta}\")\n",
    "print(f\"Respuesta: {respuesta}\")"
   ]
  }
 ],
 "metadata": {
  "kernelspec": {
   "display_name": "tf_gpu_env",
   "language": "python",
   "name": "python3"
  },
  "language_info": {
   "codemirror_mode": {
    "name": "ipython",
    "version": 3
   },
   "file_extension": ".py",
   "mimetype": "text/x-python",
   "name": "python",
   "nbconvert_exporter": "python",
   "pygments_lexer": "ipython3",
   "version": "3.9.18"
  }
 },
 "nbformat": 4,
 "nbformat_minor": 2
}
