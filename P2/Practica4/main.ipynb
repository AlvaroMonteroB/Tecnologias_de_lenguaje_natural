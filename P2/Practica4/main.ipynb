{
 "cells": [
  {
   "cell_type": "markdown",
   "metadata": {},
   "source": [
    "Montero Barraza Álvaro David\n",
    "\n",
    "Tecnologías de lenguaje natural 5BV1\n",
    "\n",
    "Ingeniería en IA\n",
    "\n",
    "Este programa identifica frases, palabras y documentos similares\n",
    "\n"
   ]
  },
  {
   "cell_type": "markdown",
   "metadata": {},
   "source": [
    "## **Modulos**"
   ]
  },
  {
   "cell_type": "code",
   "execution_count": 1,
   "metadata": {},
   "outputs": [
    {
     "name": "stderr",
     "output_type": "stream",
     "text": [
      "/home/alvaromontero/.local/lib/python3.10/site-packages/tqdm/auto.py:21: TqdmWarning: IProgress not found. Please update jupyter and ipywidgets. See https://ipywidgets.readthedocs.io/en/stable/user_install.html\n",
      "  from .autonotebook import tqdm as notebook_tqdm\n",
      "/home/alvaromontero/.local/lib/python3.10/site-packages/transformers/utils/generic.py:441: UserWarning: torch.utils._pytree._register_pytree_node is deprecated. Please use torch.utils._pytree.register_pytree_node instead.\n",
      "  _torch_pytree._register_pytree_node(\n",
      "2024-06-04 22:55:10.993755: I tensorflow/core/util/port.cc:113] oneDNN custom operations are on. You may see slightly different numerical results due to floating-point round-off errors from different computation orders. To turn them off, set the environment variable `TF_ENABLE_ONEDNN_OPTS=0`.\n",
      "2024-06-04 22:55:11.213505: E external/local_xla/xla/stream_executor/cuda/cuda_dnn.cc:9261] Unable to register cuDNN factory: Attempting to register factory for plugin cuDNN when one has already been registered\n",
      "2024-06-04 22:55:11.213527: E external/local_xla/xla/stream_executor/cuda/cuda_fft.cc:607] Unable to register cuFFT factory: Attempting to register factory for plugin cuFFT when one has already been registered\n",
      "2024-06-04 22:55:11.252588: E external/local_xla/xla/stream_executor/cuda/cuda_blas.cc:1515] Unable to register cuBLAS factory: Attempting to register factory for plugin cuBLAS when one has already been registered\n",
      "2024-06-04 22:55:11.333433: I tensorflow/core/platform/cpu_feature_guard.cc:182] This TensorFlow binary is optimized to use available CPU instructions in performance-critical operations.\n",
      "To enable the following instructions: AVX2 AVX_VNNI FMA, in other operations, rebuild TensorFlow with the appropriate compiler flags.\n",
      "2024-06-04 22:55:11.957795: W tensorflow/compiler/tf2tensorrt/utils/py_utils.cc:38] TF-TRT Warning: Could not find TensorRT\n",
      "/home/alvaromontero/.local/lib/python3.10/site-packages/transformers/utils/generic.py:309: UserWarning: torch.utils._pytree._register_pytree_node is deprecated. Please use torch.utils._pytree.register_pytree_node instead.\n",
      "  _torch_pytree._register_pytree_node(\n"
     ]
    }
   ],
   "source": [
    "import spacy\n",
    "from nltk.corpus import wordnet as wn\n",
    "from nltk.tokenize import word_tokenize\n",
    "\n",
    "from nltk.corpus import stopwords\n",
    "from copy import deepcopy\n",
    "import re\n",
    "import random\n",
    "from keybert import KeyBERT\n",
    "from collections import Counter"
   ]
  },
  {
   "cell_type": "markdown",
   "metadata": {},
   "source": [
    "## **Funciones**"
   ]
  },
  {
   "cell_type": "code",
   "execution_count": 2,
   "metadata": {},
   "outputs": [],
   "source": [
    "def randomize(lista):\n",
    "    randomized = lista[:]  \n",
    "    random.shuffle(randomized)\n",
    "    return randomized\n",
    "\n",
    "# Elimina etiquetas HTML y comentarios dentro del propio texto como indicaciones extra entre parentesis o comentarios entre --\n",
    "def eliminar_etiquetas(text):\n",
    "    pattern = re.compile(r'<[^>]+>|\\([^)]+\\)|--[^\\-]+--')\n",
    "    doc = pattern.sub('', text)\n",
    "    return doc\n",
    "\n",
    "# Removemos apostrofes para quedarnos con palabras como cant couldnt o dont\n",
    "def remover_apostrofes(text):\n",
    "    pattern = r\"\\\\?'\"\n",
    "    doc = re.sub(pattern, '', text)\n",
    "    return doc\n",
    "# Nos quedamos con solo alfabeto eliminando caracteres especiales    \n",
    "def remover_especiales(text):\n",
    "    pattern = r\"[^a-z\\s]\"\n",
    "    doc = re.sub(pattern, ' ', text)\n",
    "    return doc\n",
    "# Quitamos dobles espacios para tener texto espaciado solamente por un espacio por palabra\n",
    "def dobles_espacios(text):\n",
    "    pattern = r'\\s+'\n",
    "    doc = re.sub(pattern, ' ', text)\n",
    "    return doc\n",
    "    \n",
    "# Removemos stop words unicamente en ingles\n",
    "def remove_stopwords(text):\n",
    "    words = word_tokenize(text)\n",
    "    stop_words = set(stopwords.words('english'))\n",
    "    filtered_words = [word for word in words if word not in stop_words]\n",
    "    filtered_text = ' '.join(filtered_words)\n",
    "    return filtered_text\n",
    "\n",
    "# Lematizacion mediante spacy\n",
    "nlp = spacy.load(\"en_core_web_trf\")\n",
    "def lemmatize(doc):\n",
    "    docs = list(nlp.pipe([doc]))\n",
    "    lemas = ' '.join([token.lemma_ for doc in docs for token in doc])\n",
    "    return lemas"
   ]
  },
  {
   "cell_type": "markdown",
   "metadata": {},
   "source": [
    "## **Análisis exploratorio y preprocesamiento**"
   ]
  },
  {
   "cell_type": "code",
   "execution_count": 3,
   "metadata": {},
   "outputs": [],
   "source": [
    "Book_list=['/mnt/d/Repositorios/Tecnologias_de_lenguaje_natural/P2/Practica4/ancient_egypt.txt','/mnt/d/Repositorios/Tecnologias_de_lenguaje_natural/P2/Practica4/christ_roma.txt','/mnt/d/Repositorios/Tecnologias_de_lenguaje_natural/P2/Practica4/city_rome.txt',\n",
    "           '/mnt/d/Repositorios/Tecnologias_de_lenguaje_natural/P2/Practica4/early_european.txt','/mnt/d/Repositorios/Tecnologias_de_lenguaje_natural/P2/Practica4/EGYPT.txt','/mnt/d/Repositorios/Tecnologias_de_lenguaje_natural/P2/Practica4/greek_cities.txt',\n",
    "           '/mnt/d/Repositorios/Tecnologias_de_lenguaje_natural/P2/Practica4/greek_imp.txt','/mnt/d/Repositorios/Tecnologias_de_lenguaje_natural/P2/Practica4/Punic_war.txt',\n",
    "           '/mnt/d/Repositorios/Tecnologias_de_lenguaje_natural/P2/Practica4/religion_pagan.txt','/mnt/d/Repositorios/Tecnologias_de_lenguaje_natural/P2/Practica4/roman_religion.txt']\n",
    "#Book_list=[]\n",
    "\n",
    "Books_raw_file=[]\n",
    "for i in range(len(Book_list)):\n",
    "    with open(Book_list[i],'r',encoding='utf-8')as f:\n",
    "        file=f.read()\n",
    "        Books_raw_file.append(file)"
   ]
  },
  {
   "cell_type": "code",
   "execution_count": 4,
   "metadata": {},
   "outputs": [
    {
     "name": "stdout",
     "output_type": "stream",
     "text": [
      "El modelo está configurado para usar CPU\n"
     ]
    }
   ],
   "source": [
    "if spacy.prefer_gpu():\n",
    "    print(\"El modelo está configurado para usar GPU\")\n",
    "else:\n",
    "    print(\"El modelo está configurado para usar CPU\")"
   ]
  },
  {
   "cell_type": "code",
   "execution_count": 5,
   "metadata": {},
   "outputs": [
    {
     "name": "stdout",
     "output_type": "stream",
     "text": [
      "Libro 0 5813 tokens  174 oraciones\n",
      "Libro 1 14631 tokens  458 oraciones\n",
      "Libro 2 1217 tokens  60 oraciones\n",
      "Libro 3 4447 tokens  261 oraciones\n",
      "Libro 4 14737 tokens  431 oraciones\n",
      "Libro 5 10615 tokens  314 oraciones\n",
      "Libro 6 9525 tokens  304 oraciones\n",
      "Libro 7 4313 tokens  174 oraciones\n",
      "Libro 8 8404 tokens  281 oraciones\n",
      "Libro 9 8629 tokens  294 oraciones\n"
     ]
    }
   ],
   "source": [
    "\n",
    "nlp=spacy.load('en_core_web_trf')\n",
    "spacy.prefer_gpu()\n",
    "books=[]\n",
    "books_w_stops=[]\n",
    "for i,book in enumerate(Books_raw_file):\n",
    "    book=eliminar_etiquetas(book)\n",
    "    book=remover_apostrofes(book)\n",
    "    #book=remover_especiales(book)\n",
    "    book=dobles_espacios(book)\n",
    "    \n",
    "    doc=nlp(book)\n",
    "    books_w_stops.append(doc.copy())#Libros con stopwords\n",
    "    \n",
    "    book=remove_stopwords(book)\n",
    "    doc_s=nlp(book)\n",
    "    books.append(doc_s.copy())#Libros sin stopwords\n",
    "    print(f\"Libro {i} {len(doc)} tokens  {len(list(doc.sents))} oraciones\")"
   ]
  },
  {
   "cell_type": "code",
   "execution_count": 6,
   "metadata": {},
   "outputs": [
    {
     "name": "stdout",
     "output_type": "stream",
     "text": [
      "Sin stopwords\n",
      "Libro 0 3626 tokens  182 oraciones\n",
      "Libro 1 9104 tokens  512 oraciones\n",
      "Libro 2 681 tokens  62 oraciones\n",
      "Libro 3 3035 tokens  266 oraciones\n",
      "Libro 4 8824 tokens  449 oraciones\n",
      "Libro 5 6618 tokens  330 oraciones\n",
      "Libro 6 5596 tokens  318 oraciones\n",
      "Libro 7 2521 tokens  178 oraciones\n",
      "Libro 8 5044 tokens  288 oraciones\n",
      "Libro 9 5417 tokens  366 oraciones\n"
     ]
    }
   ],
   "source": [
    "print(\"Sin stopwords\")\n",
    "for i,book in enumerate(books):\n",
    "    print(f\"Libro {i} {len(book)} tokens  {len(list(book.sents))} oraciones\")"
   ]
  },
  {
   "cell_type": "markdown",
   "metadata": {},
   "source": [
    "## **Desarrollo de la práctica**"
   ]
  },
  {
   "cell_type": "markdown",
   "metadata": {},
   "source": [
    "Similitud de palabras con synsets"
   ]
  },
  {
   "cell_type": "code",
   "execution_count": 15,
   "metadata": {},
   "outputs": [
    {
     "name": "stdout",
     "output_type": "stream",
     "text": [
      "ADJ\n",
      "NOUN\n",
      "NOUN\n",
      "NOUN\n",
      "PUNCT\n",
      "PUNCT\n",
      "VERB\n",
      "PROPN\n",
      "NOUN\n",
      "PROPN\n"
     ]
    }
   ],
   "source": [
    "for i,book in enumerate(books):\n",
    "    print(book[10].pos_)"
   ]
  },
  {
   "cell_type": "code",
   "execution_count": null,
   "metadata": {},
   "outputs": [],
   "source": [
    "def most_common_verb(doc):\n",
    "    verbs = [token.lemma_ for token in doc if token.pos_ == \"VERB\"]\n",
    "    if not verbs:\n",
    "        return None\n",
    "    most_common = Counter(verbs).most_common(1)[0][0]\n",
    "    return most_common\n",
    "\n",
    "def get_synsets(word, lang='eng'):\n",
    "    return wn.synsets(word, lang=lang, pos=wn.VERB)\n",
    "\n",
    "def find_similar_verbs(target_verb, verbs, similarity_func):\n",
    "    target_synsets = get_synsets(target_verb)\n",
    "    if not target_synsets:\n",
    "        return []\n",
    "    target_synset = target_synsets[0]\n",
    "    \n",
    "    similarities = []\n",
    "    for verb in verbs:\n",
    "        verb_synsets = get_synsets(verb)\n",
    "        if not verb_synsets:\n",
    "            continue\n",
    "        verb_synset = verb_synsets[0]\n",
    "        similarity = similarity_func(target_synset, verb_synset)\n",
    "        if similarity is not None:\n",
    "            similarities.append((verb, similarity))\n",
    "    \n",
    "    # Ordenar por similitud y obtener los 5 más similares\n",
    "    similarities = sorted(similarities, key=lambda x: x[1], reverse=True)\n",
    "    return [verb for verb, _ in similarities[:5]]\n",
    "\n"
   ]
  }
 ],
 "metadata": {
  "kernelspec": {
   "display_name": "tf_gpu_env",
   "language": "python",
   "name": "python3"
  },
  "language_info": {
   "codemirror_mode": {
    "name": "ipython",
    "version": 3
   },
   "file_extension": ".py",
   "mimetype": "text/x-python",
   "name": "python",
   "nbconvert_exporter": "python",
   "pygments_lexer": "ipython3",
   "version": "3.10.13"
  }
 },
 "nbformat": 4,
 "nbformat_minor": 2
}
